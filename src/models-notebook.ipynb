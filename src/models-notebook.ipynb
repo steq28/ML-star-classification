{
 "cells": [
  {
   "cell_type": "markdown",
   "metadata": {
    "id": "dR-wSOwvmQN5"
   },
   "source": [
    "### **Machine Learning Star Classification**\n",
    "Classification of stars based on their spectral characteristics\n",
    "\n",
    "**Authors:**\n",
    "- *Stefano Quaggio 866504*\n",
    "- *Stefano Andreotti 851596*\n",
    "- *Alberto Varisco 866109*\n",
    "\n",
    "**Classification models used:**\n",
    "- <u>Neural Networks</u>\n",
    "- <u>SVM</u>\n",
    "- <u>K-Means Algorithm</u>"
   ]
  },
  {
   "cell_type": "markdown",
   "metadata": {
    "id": "BluXwqmqmQN8"
   },
   "source": [
    "## <u>Initial Analysis</u>"
   ]
  },
  {
   "cell_type": "code",
   "execution_count": null,
   "metadata": {
    "colab": {
     "base_uri": "https://localhost:8080/"
    },
    "executionInfo": {
     "elapsed": 2087,
     "status": "ok",
     "timestamp": 1707229253143,
     "user": {
      "displayName": "Alberto Varisco",
      "userId": "14644811473278569331"
     },
     "user_tz": -60
    },
    "id": "rH_pDntCmQN7",
    "outputId": "b82c95c9-a48c-4e7f-b21e-b44ffdeb68f4"
   },
   "outputs": [],
   "source": [
    "# All libraries imports\n",
    "import numpy as np\n",
    "import matplotlib.pyplot as plt\n",
    "import pandas as pd\n",
    "import seaborn as sns\n",
    "from sklearn.preprocessing import LabelEncoder, normalize\n",
    "from sklearn.preprocessing import StandardScaler\n",
    "from sklearn.model_selection import train_test_split\n",
    "from sklearn.metrics import accuracy_score, classification_report, confusion_matrix\n",
    "from sklearn.tree import DecisionTreeClassifier, plot_tree\n",
    "\n",
    "# Keras imports\n",
    "import keras\n",
    "from keras.models import Sequential\n",
    "from keras.layers import Dense, Dropout, Activation\n",
    "from keras.optimizers import Adam\n",
    "\n",
    "#Diamo accesso al nostro google drive che conterrà il dataset che utilizzeremo in questo laboratorio\n",
    "# from google.colab import drive\n",
    "\n",
    "# drive.mount('/content/drive/')"
   ]
  },
  {
   "cell_type": "code",
   "execution_count": null,
   "metadata": {
    "colab": {
     "base_uri": "https://localhost:8080/"
    },
    "executionInfo": {
     "elapsed": 406,
     "status": "ok",
     "timestamp": 1707229253547,
     "user": {
      "displayName": "Alberto Varisco",
      "userId": "14644811473278569331"
     },
     "user_tz": -60
    },
    "id": "w7glikpkmQN8",
    "outputId": "235a65d0-f6f1-4c24-898d-9300d3dc686e"
   },
   "outputs": [],
   "source": [
    "full_df = pd.read_csv('../dataset/star_classification.csv')\n",
    "\n",
    "full_df.head()"
   ]
  },
  {
   "cell_type": "code",
   "execution_count": null,
   "metadata": {
    "colab": {
     "base_uri": "https://localhost:8080/"
    },
    "executionInfo": {
     "elapsed": 6,
     "status": "ok",
     "timestamp": 1707229253547,
     "user": {
      "displayName": "Alberto Varisco",
      "userId": "14644811473278569331"
     },
     "user_tz": -60
    },
    "id": "xtIU2z4KmQN9",
    "outputId": "bba6e7cb-c7b3-4457-ad85-91953f6b9bee"
   },
   "outputs": [],
   "source": [
    "full_df.info()\n",
    "# Check number of missing values in columns\n",
    "full_df.isnull().sum()"
   ]
  },
  {
   "cell_type": "code",
   "execution_count": null,
   "metadata": {
    "colab": {
     "base_uri": "https://localhost:8080/"
    },
    "executionInfo": {
     "elapsed": 4726,
     "status": "ok",
     "timestamp": 1707229258268,
     "user": {
      "displayName": "Alberto Varisco",
      "userId": "14644811473278569331"
     },
     "user_tz": -60
    },
    "id": "RkfiW87amQN-",
    "outputId": "5b1acba7-02ba-42e5-f54a-0f571be0bd5f"
   },
   "outputs": [],
   "source": [
    "full_df.hist(figsize=(18,18))"
   ]
  },
  {
   "cell_type": "code",
   "execution_count": null,
   "metadata": {
    "colab": {
     "base_uri": "https://localhost:8080/"
    },
    "executionInfo": {
     "elapsed": 551,
     "status": "ok",
     "timestamp": 1707229258805,
     "user": {
      "displayName": "Alberto Varisco",
      "userId": "14644811473278569331"
     },
     "user_tz": -60
    },
    "id": "o9eSChKXmQN-",
    "outputId": "d3795e25-c225-45c9-9146-db1739bd893e"
   },
   "outputs": [],
   "source": [
    "# Initialize LabelEncoder object\n",
    "label_encoder = LabelEncoder()\n",
    "\n",
    "# Apply LabelEncoder on 'class' column (target) -> 0 = Galaxy, 1 = Quasar, 2 = Star\n",
    "full_df['class'] = label_encoder.fit_transform(full_df['class'])\n",
    "# create dict with { label: value } (funziona solo quando viene eseguito dall'inizio se no diventa { value: value })\n",
    "#label_mapping = dict(zip(label_encoder.classes_, label_encoder.transform(label_encoder.classes_)))\n",
    "# per non dover rieseguire tutto il codice dall'inizio\n",
    "label_mapping = { 'Galaxy': 0, 'Quasar': 1, 'Star': 2 }\n",
    "\n",
    "#Check distribution of target variable\n",
    "sns.countplot(x = full_df['class'])\n",
    "plt.show()"
   ]
  },
  {
   "cell_type": "code",
   "execution_count": null,
   "metadata": {
    "colab": {
     "base_uri": "https://localhost:8080/"
    },
    "executionInfo": {
     "elapsed": 1812,
     "status": "ok",
     "timestamp": 1707229260610,
     "user": {
      "displayName": "Alberto Varisco",
      "userId": "14644811473278569331"
     },
     "user_tz": -60
    },
    "id": "CAK9LH0jmQN_",
    "outputId": "3ae2b5e2-ccac-42d0-e6df-d69eb253fdd6"
   },
   "outputs": [],
   "source": [
    "# Check correlation between features\n",
    "plt.figure(figsize=(15,8))\n",
    "sns.heatmap(full_df.corr(), annot=True, cmap='YlGnBu')"
   ]
  },
  {
   "cell_type": "code",
   "execution_count": null,
   "metadata": {
    "id": "ObC7ErmhmQN_"
   },
   "outputs": [],
   "source": [
    "# Remove 'rerun_ID' column as it has only one value and is not useful for classification\n",
    "full_df.drop(['rerun_ID'], axis=1, inplace=True)\n",
    "\n",
    "# Split dataset into train and test sets\n",
    "x = full_df.drop(['class'], axis=1)\n",
    "y = full_df['class']\n",
    "X_train, X_test, y_train, y_test = train_test_split(x, y, test_size=0.2)\n"
   ]
  },
  {
   "cell_type": "markdown",
   "metadata": {
    "id": "2dangu69qJbL"
   },
   "source": [
    "## Rete neurale"
   ]
  },
  {
   "cell_type": "code",
   "execution_count": null,
   "metadata": {
    "colab": {
     "base_uri": "https://localhost:8080/"
    },
    "executionInfo": {
     "elapsed": 15,
     "status": "ok",
     "timestamp": 1707226712679,
     "user": {
      "displayName": "Alberto Varisco",
      "userId": "14644811473278569331"
     },
     "user_tz": -60
    },
    "id": "dleMNqPMmQN_",
    "outputId": "551439c8-e529-4374-96d9-3f45071f1d2b"
   },
   "outputs": [],
   "source": [
    "# Feature scaling (standardization)\n",
    "scaler = StandardScaler()\n",
    "X_train = scaler.fit_transform(X_train)\n",
    "X_test = scaler.transform(X_test)\n",
    "\n",
    "X_train"
   ]
  },
  {
   "cell_type": "code",
   "execution_count": null,
   "metadata": {
    "colab": {
     "base_uri": "https://localhost:8080/"
    },
    "executionInfo": {
     "elapsed": 589,
     "status": "ok",
     "timestamp": 1707226713255,
     "user": {
      "displayName": "Alberto Varisco",
      "userId": "14644811473278569331"
     },
     "user_tz": -60
    },
    "id": "lvZDNlQEmQOA",
    "outputId": "fd3b307d-6378-491c-d90d-840ff968d931"
   },
   "outputs": [],
   "source": [
    "# Convert target variable to categorical, as it is a multi-class classification problem\n",
    "y_train_neural = keras.utils.to_categorical(y_train)\n",
    "y_test_neural = keras.utils.to_categorical(y_test)\n",
    "print(X_test.shape, y_test_neural.shape)\n",
    "\n",
    "print(y_train_neural)"
   ]
  },
  {
   "cell_type": "code",
   "execution_count": null,
   "metadata": {
    "colab": {
     "base_uri": "https://localhost:8080/",
     "height": 494
    },
    "executionInfo": {
     "elapsed": 5608,
     "status": "error",
     "timestamp": 1707226718857,
     "user": {
      "displayName": "Alberto Varisco",
      "userId": "14644811473278569331"
     },
     "user_tz": -60
    },
    "id": "DW0vSQfBmQOB",
    "outputId": "20eb3e1c-6ab0-4c5a-d8fa-399adf94ca45"
   },
   "outputs": [],
   "source": [
    "input_features = X_train.shape[1]\n",
    "\n",
    "model=Sequential()\n",
    "model.add(Dense(32, input_dim=input_features, activation='relu'))\n",
    "model.add(Dense(32, activation='relu'))\n",
    "model.add(Dense(3, activation='softmax'))\n",
    "\n",
    "model.compile(loss='categorical_crossentropy', optimizer=\"adam\", metrics=['accuracy'])\n",
    "# Train the model\n",
    "history = model.fit(X_train, y_train_neural, epochs=20, batch_size=100, verbose=1, validation_data=(X_test, y_test_neural))\n",
    "\n",
    "# Evaluate the model on the test set\n",
    "_, train_acc = model.evaluate(X_train, y_train_neural, verbose=0)\n",
    "_, test_acc = model.evaluate(X_test, y_test_neural, verbose=0)\n",
    "print('Train: %.3f, Test: %.3f' % (train_acc, test_acc))\n",
    "# plot loss during training\n",
    "plt.subplot(111)\n",
    "plt.title('Loss')\n",
    "plt.plot(history.history['loss'], label='train')\n",
    "plt.plot(history.history['val_loss'], label='test')\n",
    "plt.legend()\n",
    "# plot accuracy during training\n",
    "plt.subplot(222)\n",
    "plt.title('Accuracy')\n",
    "plt.plot(history.history['accuracy'], label='train')\n",
    "plt.plot(history.history['val_accuracy'], label='test')\n",
    "plt.legend()\n",
    "plt.show()"
   ]
  },
  {
   "cell_type": "code",
   "outputs": [],
   "source": [
    "from sklearn.metrics import precision_score, recall_score, f1_score\n",
    "\n",
    "# predict probabilities for test set\n",
    "yhat_probs = model.predict(X_test, verbose=0)\n",
    "# predict crisp classes for test set\n",
    "yhat_classes=np.argmax(yhat_probs,axis=1)\n",
    "# reduce to 1d array\n",
    "yhat_probs = yhat_probs[:, 0]\n",
    "\n",
    "y_test_unidimension = [0 if val[0] else 1 if val[1] else 2 for val in y_test_neural]\n",
    "    \n",
    "print(classification_report(y_test_unidimension, yhat_classes, target_names=label_mapping.keys()))"
   ],
   "metadata": {
    "collapsed": false
   },
   "execution_count": null
  },
  {
   "cell_type": "markdown",
   "source": [
    "## SVM"
   ],
   "metadata": {
    "collapsed": false
   }
  },
  {
   "cell_type": "code",
   "execution_count": null,
   "metadata": {
    "colab": {
     "base_uri": "https://localhost:8080/"
    },
    "executionInfo": {
     "elapsed": 81569,
     "status": "ok",
     "timestamp": 1707230826021,
     "user": {
      "displayName": "Alberto Varisco",
      "userId": "14644811473278569331"
     },
     "user_tz": -60
    },
    "id": "62UaENtnwPYq",
    "outputId": "bd25c865-2b5c-4cd4-fbe6-150b24c462ba"
   },
   "outputs": [],
   "source": [
    "from sklearn import svm\n",
    "\n",
    "# Crea il classificatore SVM\n",
    "# C = 1 default provato C=100 cambia pochissimo non vale la pena\n",
    "sv = svm.SVC(kernel='linear', C=1, probability=True)\n",
    "\n",
    "sv.fit(X_train, y_train)\n",
    "y_pred = sv.predict(X_test)\n",
    "\n",
    "# calcolo dell'accuratezza\n",
    "# label_mapping dict: Galaxy = 0, Quasar = 1, Star = 2\n",
    "accuracy = accuracy_score(y_test, y_pred)\n",
    "print(f\"Accuratezza: {accuracy}\\n\\n\")\n",
    "print(classification_report(y_test, y_pred, target_names=label_mapping.keys()))\n",
    "print(\"\\n\\nConfusion matrix:\\n\", confusion_matrix(y_test, y_pred))"
   ]
  },
  {
   "cell_type": "code",
   "outputs": [],
   "source": [
    "from sklearn.multiclass import OneVsRestClassifier\n",
    "from sklearn.metrics import roc_auc_score, roc_curve\n",
    "\n",
    "# from sklearn.metrics import roc_curve, roc_auc_score\n",
    "# \n",
    "# y_pred_prob = sv.predict_proba(X_test)[:, 1]\n",
    "# \n",
    "# # Calcola la curva ROC\n",
    "# fpr, tpr, thresholds = roc_curve(y_test, y_pred_prob)\n",
    "# \n",
    "# # Calcola l'AUC della curva ROC\n",
    "# roc_auc = roc_auc_score(y_test, y_pred_prob)\n",
    "# \n",
    "# # Disegna la curva ROC\n",
    "# plt.plot(fpr, tpr, label='ROC curve (area = %0.2f)' % roc_auc)\n",
    "# plt.plot([0, 1], [0, 1], 'k--')\n",
    "# plt.xlim([0.0, 1.0])\n",
    "# plt.ylim([0.0, 1.05])\n",
    "# plt.xlabel('False Positive Rate')\n",
    "# plt.ylabel('True Positive Rate')\n",
    "# plt.title('Receiver operating characteristic')\n",
    "# plt.legend(loc=\"lower right\")\n",
    "# plt.show()\n",
    " \n",
    "y_pred_prob = sv.predict_proba(X_test)\n",
    "\n",
    "# Get ROC metrics for each class\n",
    "fpr = {}\n",
    "tpr = {}\n",
    "thresh ={}\n",
    "\n",
    "for i in range(3):    \n",
    "    fpr[i], tpr[i], thresh[i] = roc_curve(y_test, y_pred_prob[:,i], pos_label=i)\n",
    "    \n",
    "# Plot the ROC chart\n",
    "plt.plot(fpr[0], tpr[0], linestyle='--',color='yellow', label= 'Galaxy vs Rest')\n",
    "plt.plot(fpr[1], tpr[1], linestyle='--',color='green', label='Quasar vs Rest')\n",
    "plt.plot(fpr[2], tpr[2], linestyle='--',color='red', label='Star vs Rest')\n",
    "plt.title('Multiclass ROC curve SVM')\n",
    "plt.xlabel('False Positive Rate')\n",
    "plt.ylabel('True Positive rate')\n",
    "plt.legend(loc='best')\n",
    "plt.show()\n"
   ],
   "metadata": {
    "collapsed": false
   },
   "execution_count": null
  },
  {
   "cell_type": "markdown",
   "source": [
    "## Decision Tree\n"
   ],
   "metadata": {
    "collapsed": false
   }
  },
  {
   "cell_type": "code",
   "outputs": [],
   "source": [
    "# Decision Tree\n",
    "model = DecisionTreeClassifier(random_state = 30)\n",
    "model.fit(X_train, y_train)\n",
    "y_pred3 = model.predict(X_test)\n",
    "\n",
    "dtree_score = recall_score(y_test, y_pred3, average='weighted')\n",
    "print(dtree_score)"
   ],
   "metadata": {
    "collapsed": false
   },
   "execution_count": null
  },
  {
   "cell_type": "code",
   "outputs": [],
   "source": [
    "# Stampa albero\n",
    "fig, ax = plt.subplots(figsize=(150, 100))\n",
    "plot_tree(model, filled=True, ax=ax)\n",
    "plt.plot()\n",
    "# Salva l'albero\n",
    "# plt.savefig(\"quattr.svg\", format=\"svg\")"
   ],
   "metadata": {
    "collapsed": false
   },
   "execution_count": null
  },
  {
   "cell_type": "code",
   "outputs": [],
   "source": [
    "# Predizione per nuovo modello\n",
    "y_pred = model.predict(X_test)\n",
    "\n",
    "cm = confusion_matrix(y_test, y_pred)\n",
    "\n",
    "print(\"Confusion matrix:\\n\", cm)\n",
    "print(\"\\nAccuratezza:\", cm.diagonal().sum() / cm.sum())"
   ],
   "metadata": {
    "collapsed": false
   },
   "execution_count": null
  },
  {
   "cell_type": "code",
   "outputs": [],
   "source": [
    "path = model.cost_complexity_pruning_path(X_train, y_train)\n",
    "\n",
    "ccp_alphas = path.ccp_alphas\n",
    "# Valori di complessità = [0.001, 0.01, 0.1, 1, 10, 100]\n",
    "ccp_alphas = path.ccp_alphas\n",
    "\n",
    "# Addestra l'albero decisionale con diversi valori di complessità\n",
    "train_accuracy = []\n",
    "test_accuracy = []\n",
    "for complexity in ccp_alphas:\n",
    "    clf = DecisionTreeClassifier(max_depth=3, ccp_alpha=complexity)\n",
    "    clf.fit(X_train, y_train)\n",
    "    train_accuracy.append(clf.score(X_train, y_train))\n",
    "    test_accuracy.append(clf.score(X_test, y_test))\n",
    "\n",
    "# Plotta l'accuratezza del modello in funzione del parametro di complessità\n",
    "plt.plot(ccp_alphas, train_accuracy, label='Training Accuracy')\n",
    "plt.plot(ccp_alphas, test_accuracy, label='Test Accuracy')\n",
    "plt.xlabel('Complexity Parameter')\n",
    "plt.ylabel('Accuracy')\n",
    "plt.title('Accuracy vs. Complexity Parameter')\n",
    "plt.xscale('log')\n",
    "plt.legend()\n",
    "plt.show()"
   ],
   "metadata": {
    "collapsed": false
   },
   "execution_count": null
  },
  {
   "cell_type": "code",
   "outputs": [],
   "source": [
    "clfs = []\n",
    "for ccp_alpha in ccp_alphas:\n",
    "    clf = DecisionTreeClassifier(random_state=0, ccp_alpha=ccp_alpha)\n",
    "    clf.fit(X_train, y_train)\n",
    "    clfs.append(clf)\n",
    "print(\n",
    "    \"Number of nodes in the last tree is: {} with ccp_alpha: {}\".format(\n",
    "        clfs[-1].tree_.node_count, ccp_alphas[-1]\n",
    "    )\n",
    ")"
   ],
   "metadata": {
    "collapsed": false
   }
  },
  {
   "cell_type": "code",
   "outputs": [],
   "source": [
    "clfs = clfs[:-1]\n",
    "complexity_values = ccp_alphas[:-1]\n",
    "\n",
    "node_counts = [clf.tree_.node_count for clf in clfs]\n",
    "depth = [clf.tree_.max_depth for clf in clfs]\n",
    "fig, ax = plt.subplots(2, 1)\n",
    "ax[0].plot(complexity_values, node_counts, marker=\"o\", drawstyle=\"steps-post\")\n",
    "ax[0].set_xlabel(\"Alpha\")\n",
    "ax[0].set_ylabel(\"Numero di nodi\")\n",
    "ax[0].set_title(\"Numero nodi vs Alpha\")\n",
    "ax[1].plot(complexity_values, depth, marker=\"o\", drawstyle=\"steps-post\")\n",
    "ax[1].set_xlabel(\"Alpha\")\n",
    "ax[1].set_ylabel(\"Profondità albero\")\n",
    "ax[1].set_title(\"Profondità albero vs Alpha\")\n",
    "fig.tight_layout()"
   ],
   "metadata": {
    "collapsed": false
   }
  }
 ],
 "metadata": {
  "colab": {
   "collapsed_sections": [
    "BluXwqmqmQN8",
    "2dangu69qJbL"
   ],
   "provenance": []
  },
  "kernelspec": {
   "display_name": "base",
   "language": "python",
   "name": "python3"
  },
  "language_info": {
   "codemirror_mode": {
    "name": "ipython",
    "version": 3
   },
   "file_extension": ".py",
   "mimetype": "text/x-python",
   "name": "python",
   "nbconvert_exporter": "python",
   "pygments_lexer": "ipython3",
   "version": "3.11.5"
  }
 },
 "nbformat": 4,
 "nbformat_minor": 0
}
